{
 "cells": [
  {
   "cell_type": "code",
   "execution_count": 2,
   "metadata": {},
   "outputs": [],
   "source": [
    "import math \n",
    "import matplotlib.pyplot as plt\n",
    "import numpy as np\n"
   ]
  },
  {
   "cell_type": "code",
   "execution_count": 23,
   "metadata": {},
   "outputs": [],
   "source": [
    "#Chess 2 Players\n",
    "\n",
    "#Logic\n",
    "class Chess_Board :\n",
    "    def __init__(self):\n",
    "        self.chess_board=self.create_board()\n",
    "        \n",
    "    #Setting up the board \n",
    "    def Board_Graphics(self):\n",
    "        #chess_board=np.empty((8,8))\n",
    "        #Board Graphics\n",
    "        #chess_board[1::2,0::2]=1\n",
    "        #chess_board[0::2,1::2]=1\n",
    "        #plt.imshow(chess_board,cmap='binary')\n",
    "        #plt.show\n",
    "        #print(chess_board)\n",
    "    \n",
    "        def create_board(self):\n",
    "            chess_board=np.empty((8,8),dtype=object)\n",
    "    \n",
    "    \n",
    "        def Pieces_on_Board() :\n",
    "            \n",
    "            chess_board[0][0]='White Rook'\n",
    "            chess_board[1][0]='White_Knight'\n",
    "            chess_board[2][0]='White_Bishop'\n",
    "            chess_board[3][0]='White_Queen'\n",
    "            chess_board[4][0]='White_King'\n",
    "            chess_board[5][0]='White_Bishop'\n",
    "            chess_board[6][0]='White_Knight'\n",
    "            chess_board[7][0]='White_Rook'\n",
    "            chess_board[0][1]='White_Pawn'\n",
    "            chess_board[1][1]='White_Pawn'\n",
    "            chess_board[2][1]='White_Pawn'\n",
    "            chess_board[3][1]='White_Pawn'\n",
    "            chess_board[4][1]='White_Pawn'\n",
    "            chess_board[5][1]='White_Pawn'\n",
    "            chess_board[6][1]='White_Pawn'\n",
    "            chess_board[7][1]='White_Pawn'\n",
    "\n",
    "            chess_board[0][7]='Black_Rook'\n",
    "            chess_board[1][7]='Black_Knight'\n",
    "            chess_board[2][7]='Black_Bishop'\n",
    "            chess_board[3][7]='Black_Queen'\n",
    "            chess_board[4][7]='Black_King'\n",
    "            chess_board[5][7]='Black_Bishop'\n",
    "            chess_board[6][7]='Black_Knight'\n",
    "            chess_board[7][7]='Black_Rook'\n",
    "            chess_board[0][6]='Black_Pawn'\n",
    "            chess_board[1][6]='Black_Pawn'\n",
    "            chess_board[2][6]='Black_Pawn'\n",
    "            chess_board[3][6]='Black_Pawn'\n",
    "            chess_board[4][6]='Black_Pawn'\n",
    "            chess_board[5][6]='Black_Pawn'\n",
    "            chess_board[6][6]='Black_Pawn'\n",
    "            chess_board[7][6]='Black_Pawn'\n",
    "            print (chess_board)\n",
    "        \n",
    "#class White_King:    \n",
    "\n",
    "    \n",
    "#class White_Queen:\n",
    "    \n",
    "#class White_Rook:    \n",
    "    \n",
    "#class White_Bishop:\n",
    "    \n",
    "#class White_Knight:    \n"
   ]
  },
  {
   "cell_type": "code",
   "execution_count": null,
   "metadata": {},
   "outputs": [],
   "source": []
  },
  {
   "cell_type": "code",
   "execution_count": null,
   "metadata": {},
   "outputs": [],
   "source": []
  },
  {
   "cell_type": "code",
   "execution_count": null,
   "metadata": {},
   "outputs": [],
   "source": []
  }
 ],
 "metadata": {
  "kernelspec": {
   "display_name": "Python 3",
   "language": "python",
   "name": "python3"
  },
  "language_info": {
   "codemirror_mode": {
    "name": "ipython",
    "version": 3
   },
   "file_extension": ".py",
   "mimetype": "text/x-python",
   "name": "python",
   "nbconvert_exporter": "python",
   "pygments_lexer": "ipython3",
   "version": "3.8.2"
  }
 },
 "nbformat": 4,
 "nbformat_minor": 4
}
